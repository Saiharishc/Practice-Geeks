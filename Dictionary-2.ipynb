{
 "cells": [
  {
   "cell_type": "code",
   "execution_count": null,
   "metadata": {},
   "outputs": [],
   "source": [
    "#Sort Python Dictionaries by Key or Value"
   ]
  },
  {
   "cell_type": "code",
   "execution_count": null,
   "metadata": {},
   "outputs": [],
   "source": [
    "'''Input:\n",
    "key_value[2] = '64'       \n",
    "key_value[1] = '69'\n",
    "key_value[4] = '23'\n",
    "key_value[5] = '65'\n",
    "key_value[6] = '34'\n",
    "key_value[3] = '76'\n",
    "\n",
    "Output:\n",
    "1 2 3 4 5 6'''"
   ]
  },
  {
   "cell_type": "code",
   "execution_count": 5,
   "metadata": {},
   "outputs": [
    {
     "name": "stdout",
     "output_type": "stream",
     "text": [
      "Keys are :\n",
      "1 2 3 4 5 6 "
     ]
    }
   ],
   "source": [
    "def dic():\n",
    "    kv={}\n",
    "    kv[2]=64\n",
    "    kv[1]=69\n",
    "    kv[4]=23\n",
    "    kv[5]=65\n",
    "    kv[6]=34\n",
    "    kv[3]=76\n",
    "    print('Keys are :')\n",
    "    for i in sorted(kv.keys()):\n",
    "        print(i,end=' ')\n",
    "dic()"
   ]
  },
  {
   "cell_type": "code",
   "execution_count": null,
   "metadata": {},
   "outputs": [],
   "source": [
    "or"
   ]
  },
  {
   "cell_type": "code",
   "execution_count": 18,
   "metadata": {},
   "outputs": [
    {
     "name": "stdout",
     "output_type": "stream",
     "text": [
      "(Keys,values)  are :\n",
      "(1, 69) (2, 64) (3, 76) (4, 23) (5, 65) (6, 34) "
     ]
    }
   ],
   "source": [
    "def dic():\n",
    "    kv={}\n",
    "    kv[2]=64\n",
    "    kv[1]=69\n",
    "    kv[4]=23\n",
    "    kv[5]=65\n",
    "    kv[6]=34\n",
    "    kv[3]=76\n",
    "    print('(Keys,values)  are :')\n",
    "    for i in sorted(kv.keys()):\n",
    "        print((i,kv[i]),end=' ')\n",
    "        \n",
    "def main():\n",
    "    dic()\n",
    "    \n",
    "if __name__=='__main__':\n",
    "    main()"
   ]
  },
  {
   "cell_type": "code",
   "execution_count": null,
   "metadata": {},
   "outputs": [],
   "source": [
    "or"
   ]
  },
  {
   "cell_type": "code",
   "execution_count": 19,
   "metadata": {},
   "outputs": [
    {
     "name": "stdout",
     "output_type": "stream",
     "text": [
      "Keys and values :\n",
      "[(1, 69), (2, 64), (3, 76), (4, 23), (5, 65), (6, 34)]\n"
     ]
    }
   ],
   "source": [
    "def dic():\n",
    "    kv={}\n",
    "    kv[2]=64\n",
    "    kv[1]=69\n",
    "    kv[4]=23\n",
    "    kv[5]=65\n",
    "    kv[6]=34\n",
    "    kv[3]=76\n",
    "    print('Keys and values :')\n",
    "    print(sorted(kv.items(),key=lambda k:(k[0],k[1])))\n",
    "dic()"
   ]
  },
  {
   "cell_type": "code",
   "execution_count": null,
   "metadata": {},
   "outputs": [],
   "source": []
  },
  {
   "cell_type": "code",
   "execution_count": null,
   "metadata": {},
   "outputs": [],
   "source": [
    "#Handling missing keys in Python dictionaries"
   ]
  },
  {
   "cell_type": "code",
   "execution_count": 28,
   "metadata": {},
   "outputs": [
    {
     "ename": "KeyError",
     "evalue": "'c'",
     "output_type": "error",
     "traceback": [
      "\u001b[1;31m---------------------------------------------------------------------------\u001b[0m",
      "\u001b[1;31mKeyError\u001b[0m                                  Traceback (most recent call last)",
      "\u001b[1;32m<ipython-input-28-3bc70f7b6898>\u001b[0m in \u001b[0;36m<module>\u001b[1;34m\u001b[0m\n\u001b[0;32m      1\u001b[0m \u001b[0md\u001b[0m\u001b[1;33m=\u001b[0m\u001b[1;33m{\u001b[0m\u001b[1;34m'a'\u001b[0m\u001b[1;33m:\u001b[0m\u001b[1;36m1\u001b[0m\u001b[1;33m,\u001b[0m\u001b[1;34m'b'\u001b[0m\u001b[1;33m:\u001b[0m\u001b[1;36m2\u001b[0m\u001b[1;33m}\u001b[0m\u001b[1;33m\u001b[0m\u001b[1;33m\u001b[0m\u001b[0m\n\u001b[1;32m----> 2\u001b[1;33m \u001b[0mprint\u001b[0m\u001b[1;33m(\u001b[0m\u001b[1;34m'value associated with c:'\u001b[0m\u001b[1;33m,\u001b[0m\u001b[0md\u001b[0m\u001b[1;33m[\u001b[0m\u001b[1;34m'c'\u001b[0m\u001b[1;33m]\u001b[0m\u001b[1;33m)\u001b[0m\u001b[1;33m\u001b[0m\u001b[1;33m\u001b[0m\u001b[0m\n\u001b[0m",
      "\u001b[1;31mKeyError\u001b[0m: 'c'"
     ]
    }
   ],
   "source": [
    "d={'a':1,'b':2}\n",
    "print('value associated with c:', d['c']) \n",
    "#if user tries to access a missing key,an error is popped indicating missing keys"
   ]
  },
  {
   "cell_type": "code",
   "execution_count": null,
   "metadata": {},
   "outputs": [],
   "source": [
    "or"
   ]
  },
  {
   "cell_type": "code",
   "execution_count": 32,
   "metadata": {},
   "outputs": [
    {
     "name": "stdout",
     "output_type": "stream",
     "text": [
      "Value associated with a: 1\n",
      "Value associated with c: Key not found\n"
     ]
    }
   ],
   "source": [
    "#to get default message when accessing missing values\n",
    "import collections\n",
    "d1=collections.defaultdict(lambda :'Key not found')\n",
    "d1['a']=1\n",
    "d1['b']=2\n",
    "print('Value associated with a:',d1['a'])\n",
    "print('Value associated with c:',d1['c'])"
   ]
  },
  {
   "cell_type": "code",
   "execution_count": null,
   "metadata": {},
   "outputs": [],
   "source": []
  },
  {
   "cell_type": "code",
   "execution_count": 33,
   "metadata": {},
   "outputs": [],
   "source": [
    "#Python dictionary with keys having multiple inputs"
   ]
  },
  {
   "cell_type": "code",
   "execution_count": 39,
   "metadata": {},
   "outputs": [
    {
     "name": "stdout",
     "output_type": "stream",
     "text": [
      "10 20 30\n",
      "{(10, 20, 30): 0}\n",
      "{(10, 20, 30): 0, (5, 2, 4): 3}\n"
     ]
    }
   ],
   "source": [
    "dict={}\n",
    "x,y,z=10,20,30\n",
    "print(x,y,z)\n",
    "\n",
    "dict[x,y,z]=x+y-z\n",
    "print(dict)\n",
    "\n",
    "x,y,z=5,2,4\n",
    "dict[x,y,z]=x+y-z\n",
    "print(dict)"
   ]
  },
  {
   "cell_type": "code",
   "execution_count": null,
   "metadata": {},
   "outputs": [],
   "source": [
    "#dict containing longitude and latitude of places"
   ]
  },
  {
   "cell_type": "code",
   "execution_count": 42,
   "metadata": {},
   "outputs": [
    {
     "name": "stdout",
     "output_type": "stream",
     "text": [
      "{(\"19.07'53.2\", \"72.54'51.0\"): 'Mumbai', (\"28.33'34.1\", \"77.06'16.6\"): 'Delhi'}\n",
      "\n",
      "\n",
      "[\"19.07'53.2\", \"28.33'34.1\"]\n",
      "[\"72.54'51.0\", \"77.06'16.6\"]\n",
      "['Mumbai', 'Delhi']\n"
     ]
    }
   ],
   "source": [
    "places = {(\"19.07'53.2\",\"72.54'51.0\"):\"Mumbai\", (\"28.33'34.1\",\"77.06'16.6\"):\"Delhi\"}\n",
    "print(places)\n",
    "print('\\n')\n",
    "lat=[]\n",
    "long=[]\n",
    "plc=[]\n",
    "for i in places:\n",
    "    lat.append(i[0])\n",
    "    long.append(i[1])\n",
    "    plc.append(places[i[0],i[1]])\n",
    "    \n",
    "print(lat)\n",
    "print(long)\n",
    "print(plc)"
   ]
  },
  {
   "cell_type": "code",
   "execution_count": null,
   "metadata": {},
   "outputs": [],
   "source": []
  },
  {
   "cell_type": "code",
   "execution_count": null,
   "metadata": {},
   "outputs": [],
   "source": [
    "#Python program to find the sum of all items in a dictionary"
   ]
  },
  {
   "cell_type": "code",
   "execution_count": null,
   "metadata": {},
   "outputs": [],
   "source": [
    "'''Input : {'a': 100, 'b':200, 'c':300}\n",
    "Output : 600'''"
   ]
  },
  {
   "cell_type": "code",
   "execution_count": 48,
   "metadata": {},
   "outputs": [
    {
     "name": "stdout",
     "output_type": "stream",
     "text": [
      "sum is:  600\n"
     ]
    }
   ],
   "source": [
    "def sum1(A):\n",
    "    s=0;\n",
    "    for i in A:\n",
    "        s=s+A[i]\n",
    "    return s\n",
    "A = {'a':100,'b':200,'c':300}\n",
    "print('sum is: ',sum1(A))"
   ]
  },
  {
   "cell_type": "code",
   "execution_count": 50,
   "metadata": {},
   "outputs": [
    {
     "name": "stdout",
     "output_type": "stream",
     "text": [
      "sum is:  600\n"
     ]
    }
   ],
   "source": [
    "def sum1(A):\n",
    "    s=0;\n",
    "    for i in A.values():\n",
    "        s=s+i\n",
    "    return s\n",
    "A = {'a':100,'b':200,'c':300}\n",
    "print('sum is: ',sum1(A))"
   ]
  },
  {
   "cell_type": "code",
   "execution_count": null,
   "metadata": {},
   "outputs": [],
   "source": []
  },
  {
   "cell_type": "code",
   "execution_count": null,
   "metadata": {},
   "outputs": [],
   "source": [
    "#to remove a key from dictionary"
   ]
  },
  {
   "cell_type": "code",
   "execution_count": 53,
   "metadata": {},
   "outputs": [
    {
     "name": "stdout",
     "output_type": "stream",
     "text": [
      "After deleting : {'b': 22, 'c': 23}\n"
     ]
    },
    {
     "ename": "KeyError",
     "evalue": "'d'",
     "output_type": "error",
     "traceback": [
      "\u001b[1;31m---------------------------------------------------------------------------\u001b[0m",
      "\u001b[1;31mKeyError\u001b[0m                                  Traceback (most recent call last)",
      "\u001b[1;32m<ipython-input-53-8d7ed5b5203e>\u001b[0m in \u001b[0;36m<module>\u001b[1;34m\u001b[0m\n\u001b[0;32m      2\u001b[0m \u001b[1;32mdel\u001b[0m \u001b[0mA\u001b[0m\u001b[1;33m[\u001b[0m\u001b[1;34m'a'\u001b[0m\u001b[1;33m]\u001b[0m\u001b[1;33m\u001b[0m\u001b[1;33m\u001b[0m\u001b[0m\n\u001b[0;32m      3\u001b[0m \u001b[0mprint\u001b[0m\u001b[1;33m(\u001b[0m\u001b[1;34m'After deleting :'\u001b[0m\u001b[1;33m,\u001b[0m\u001b[0mA\u001b[0m\u001b[1;33m)\u001b[0m\u001b[1;33m\u001b[0m\u001b[1;33m\u001b[0m\u001b[0m\n\u001b[1;32m----> 4\u001b[1;33m \u001b[1;32mdel\u001b[0m \u001b[0mA\u001b[0m\u001b[1;33m[\u001b[0m\u001b[1;34m'd'\u001b[0m\u001b[1;33m]\u001b[0m\u001b[1;33m\u001b[0m\u001b[1;33m\u001b[0m\u001b[0m\n\u001b[0m",
      "\u001b[1;31mKeyError\u001b[0m: 'd'"
     ]
    }
   ],
   "source": [
    "A={'a':21,'b':22,'c':23}\n",
    "del A['a']\n",
    "print('After deleting :',A)\n",
    "del A['d'] #raises exception"
   ]
  },
  {
   "cell_type": "code",
   "execution_count": 57,
   "metadata": {},
   "outputs": [
    {
     "name": "stdout",
     "output_type": "stream",
     "text": [
      "After deleting :  {'b': 22, 'c': 23}\n"
     ]
    },
    {
     "data": {
      "text/plain": [
       "'No key found'"
      ]
     },
     "execution_count": 57,
     "metadata": {},
     "output_type": "execute_result"
    }
   ],
   "source": [
    "A={'a':21,'b':22,'c':23}\n",
    "A.pop('a')\n",
    "print('After deleting : ',A)\n",
    "A.pop('d','No key found')"
   ]
  },
  {
   "cell_type": "code",
   "execution_count": 59,
   "metadata": {},
   "outputs": [
    {
     "name": "stdout",
     "output_type": "stream",
     "text": [
      "after deleting :  {'b': 22, 'c': 23}\n"
     ]
    }
   ],
   "source": [
    "A={'a':21,'b':22,'c':23}\n",
    "new = {k:v for k,v in A.items() if k!='a'}\n",
    "print('After deleting : ',new)"
   ]
  },
  {
   "cell_type": "code",
   "execution_count": null,
   "metadata": {},
   "outputs": [],
   "source": []
  },
  {
   "cell_type": "code",
   "execution_count": 61,
   "metadata": {},
   "outputs": [],
   "source": [
    "#Ways to sort list of dictionaries by values in Python"
   ]
  },
  {
   "cell_type": "code",
   "execution_count": 62,
   "metadata": {},
   "outputs": [
    {
     "name": "stdout",
     "output_type": "stream",
     "text": [
      "[{'name': 'sahu', 'age': 19}, {'name': 'sai', 'age': 20}, {'name': 'hari', 'age': 21}]\n"
     ]
    }
   ],
   "source": [
    "from operator import itemgetter\n",
    "lis =[{'name':'sai','age':20},{'name':'hari','age':21},{'name':'sahu','age':19}]\n",
    "print(sorted(lis,key=itemgetter('age')))"
   ]
  },
  {
   "cell_type": "code",
   "execution_count": 64,
   "metadata": {},
   "outputs": [
    {
     "name": "stdout",
     "output_type": "stream",
     "text": [
      "[{'name': 'sahu', 'age': 19}, {'name': 'sai', 'age': 20}, {'name': 'hari', 'age': 21}]\n"
     ]
    }
   ],
   "source": [
    "print(sorted(lis,key=itemgetter('age','name')))"
   ]
  },
  {
   "cell_type": "code",
   "execution_count": 65,
   "metadata": {},
   "outputs": [
    {
     "name": "stdout",
     "output_type": "stream",
     "text": [
      "[{'name': 'hari', 'age': 21}, {'name': 'sai', 'age': 20}, {'name': 'sahu', 'age': 19}]\n"
     ]
    }
   ],
   "source": [
    "print(sorted(lis,key=itemgetter('age'),reverse=True))"
   ]
  },
  {
   "cell_type": "code",
   "execution_count": null,
   "metadata": {},
   "outputs": [],
   "source": []
  },
  {
   "cell_type": "code",
   "execution_count": 70,
   "metadata": {},
   "outputs": [
    {
     "name": "stdout",
     "output_type": "stream",
     "text": [
      "None\n",
      "{'d': 40, 'e': 50, 'a': 10, 'b': 20, 'c': 30}\n"
     ]
    }
   ],
   "source": [
    "#Merging two Dictionaries\n",
    "def Merge(dict1,dict2):\n",
    "    return (dict2.update(dict1))\n",
    "dict1 ={'a':10,'b':20,'c':30}\n",
    "dict2 ={'d':40,'e':50}\n",
    "print(Merge(dict1,dict2))\n",
    "print(dict2)  #using update() no new list gets created where second list is merged into first"
   ]
  },
  {
   "cell_type": "code",
   "execution_count": 72,
   "metadata": {},
   "outputs": [
    {
     "name": "stdout",
     "output_type": "stream",
     "text": [
      "{'a': 10, 'b': 20, 'c': 30, 'd': 40, 'e': 50}\n"
     ]
    }
   ],
   "source": [
    "def Merge(dict1,dict2):\n",
    "    res ={**dict1,**dict2}\n",
    "    return res\n",
    "dict1 ={'a':10,'b':20,'c':30}\n",
    "dict2 ={'d':40,'e':50}\n",
    "print(Merge(dict1,dict2))"
   ]
  },
  {
   "cell_type": "code",
   "execution_count": null,
   "metadata": {},
   "outputs": [],
   "source": []
  }
 ],
 "metadata": {
  "kernelspec": {
   "display_name": "Python 3",
   "language": "python",
   "name": "python3"
  },
  "language_info": {
   "codemirror_mode": {
    "name": "ipython",
    "version": 3
   },
   "file_extension": ".py",
   "mimetype": "text/x-python",
   "name": "python",
   "nbconvert_exporter": "python",
   "pygments_lexer": "ipython3",
   "version": "3.7.3"
  }
 },
 "nbformat": 4,
 "nbformat_minor": 2
}
