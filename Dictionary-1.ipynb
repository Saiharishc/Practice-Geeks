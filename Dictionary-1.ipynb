{
 "cells": [
  {
   "cell_type": "code",
   "execution_count": 3,
   "metadata": {},
   "outputs": [],
   "source": [
    "# PROGRAM TO GET N KEY-VALUE PAIRS"
   ]
  },
  {
   "cell_type": "code",
   "execution_count": 4,
   "metadata": {},
   "outputs": [],
   "source": [
    "#Using iterator.islice() method"
   ]
  },
  {
   "cell_type": "code",
   "execution_count": 16,
   "metadata": {},
   "outputs": [
    {
     "name": "stdout",
     "output_type": "stream",
     "text": [
      "Original values:{'A': 1, 'B': 2, 'C': 3, 'D': 4}\n"
     ]
    }
   ],
   "source": [
    "import itertools\n",
    "dict1 = {'A':1,'B':2,'C':3,'D':4}\n",
    "print(\"Original values:\"+str(dict))"
   ]
  },
  {
   "cell_type": "code",
   "execution_count": 17,
   "metadata": {},
   "outputs": [
    {
     "name": "stdout",
     "output_type": "stream",
     "text": [
      "dict_items([('A', 1), ('B', 2), ('C', 3), ('D', 4)])\n",
      "dict_keys(['A', 'B', 'C', 'D'])\n"
     ]
    }
   ],
   "source": [
    "print(dict1.items())\n",
    "print(dict1.keys())"
   ]
  },
  {
   "cell_type": "code",
   "execution_count": 24,
   "metadata": {},
   "outputs": [
    {
     "name": "stdout",
     "output_type": "stream",
     "text": [
      "First 3 elements[('A', 1), ('B', 2), ('C', 3)]\n"
     ]
    }
   ],
   "source": [
    "N=3\n",
    "out =list(itertools.islice(dict1.items(),N))\n",
    "print('First 3 elements'+str(out))"
   ]
  },
  {
   "cell_type": "code",
   "execution_count": null,
   "metadata": {},
   "outputs": [],
   "source": []
  },
  {
   "cell_type": "code",
   "execution_count": 28,
   "metadata": {},
   "outputs": [
    {
     "data": {
      "text/plain": [
       "[('d', 40), ('c', 30)]"
      ]
     },
     "execution_count": 28,
     "metadata": {},
     "output_type": "execute_result"
    }
   ],
   "source": [
    "#which has n-most frequent functionality built-in but not in an order\n",
    "import collections\n",
    "dictionary = {'a':10,'b':20,'c':30,'d':40}\n",
    "collections.Counter(dictionary).most_common(2)"
   ]
  },
  {
   "cell_type": "code",
   "execution_count": 31,
   "metadata": {},
   "outputs": [
    {
     "data": {
      "text/plain": [
       "OrderedDict([('a', 10), ('b', 20), ('c', 30), ('d', 40)])"
      ]
     },
     "execution_count": 31,
     "metadata": {},
     "output_type": "execute_result"
    }
   ],
   "source": [
    "#Primary purpose is to retain the dict in order which they are inserted\n",
    "collections.OrderedDict(dictionary)"
   ]
  },
  {
   "cell_type": "code",
   "execution_count": null,
   "metadata": {},
   "outputs": [],
   "source": []
  },
  {
   "cell_type": "code",
   "execution_count": 33,
   "metadata": {},
   "outputs": [],
   "source": [
    "#Using List slicing"
   ]
  },
  {
   "cell_type": "code",
   "execution_count": 45,
   "metadata": {},
   "outputs": [
    {
     "name": "stdout",
     "output_type": "stream",
     "text": [
      "Original{'aa': 1, 'ab': 2, 'ac': 3}\n",
      "[('aa', 1), ('ab', 2), ('ac', 3)]\n"
     ]
    }
   ],
   "source": [
    "test = {'aa':1,'ab':2,'ac':3}\n",
    "print('Original'+str(test))\n",
    "N=3\n",
    "out=list(test.items())[0:N]\n",
    "print(out)"
   ]
  },
  {
   "cell_type": "code",
   "execution_count": null,
   "metadata": {},
   "outputs": [],
   "source": []
  },
  {
   "cell_type": "code",
   "execution_count": 47,
   "metadata": {},
   "outputs": [
    {
     "data": {
      "text/plain": [
       "{'aa': 1, 'ab': 2, 'ac': 3}"
      ]
     },
     "execution_count": 47,
     "metadata": {},
     "output_type": "execute_result"
    }
   ],
   "source": [
    "{key:value for key,value in list(test.items())[0:N]}"
   ]
  },
  {
   "cell_type": "code",
   "execution_count": 48,
   "metadata": {},
   "outputs": [
    {
     "data": {
      "text/plain": [
       "[('aa', 1), ('ab', 2), ('ac', 3)]"
      ]
     },
     "execution_count": 48,
     "metadata": {},
     "output_type": "execute_result"
    }
   ],
   "source": [
    "list(test.items())[:N]"
   ]
  },
  {
   "cell_type": "code",
   "execution_count": null,
   "metadata": {},
   "outputs": [],
   "source": []
  },
  {
   "cell_type": "code",
   "execution_count": 49,
   "metadata": {},
   "outputs": [],
   "source": [
    "#PAIRS WITH MULTIPLE SIMILAR VALUES IN DICT"
   ]
  },
  {
   "cell_type": "code",
   "execution_count": 55,
   "metadata": {},
   "outputs": [
    {
     "name": "stdout",
     "output_type": "stream",
     "text": [
      "original[{'a': 1, 'b': 2}, {'a': 2, 'b': 2}, {'a': 1, 'b': 2}]\n",
      "with unique values[{'a': 1, 'b': 2}, {'a': 1, 'b': 2}]\n"
     ]
    }
   ],
   "source": [
    "#Using list comprehension\n",
    "l1 = [{'a':1,'b':2},{'a':2,'b':2},{'a':1,'b':2}]\n",
    "print('original'+str(l1))\n",
    "out =[j for j in l1 if len([i for i in l1 if i['a']==j['a']])>1]\n",
    "print('with unique values'+str(out))"
   ]
  },
  {
   "cell_type": "code",
   "execution_count": null,
   "metadata": {},
   "outputs": [],
   "source": []
  },
  {
   "cell_type": "code",
   "execution_count": 60,
   "metadata": {},
   "outputs": [
    {
     "data": {
      "text/plain": [
       "[{'a': 1, 'b': 2}, {'a': 1, 'b': 2}]"
      ]
     },
     "execution_count": 60,
     "metadata": {},
     "output_type": "execute_result"
    }
   ],
   "source": [
    "#Using list comp +Counter() - where counter() is used to find the frequency \n",
    "from collections import Counter\n",
    "l1 = [{'a':1,'b':2},{'a':2,'b':2},{'a':1,'b':2}]\n",
    "temp = Counter(i['a'] for i in l1)\n",
    "[j for j in l1 if temp[j['a']]>1]"
   ]
  },
  {
   "cell_type": "code",
   "execution_count": null,
   "metadata": {},
   "outputs": [],
   "source": []
  },
  {
   "cell_type": "code",
   "execution_count": 61,
   "metadata": {},
   "outputs": [],
   "source": [
    "#TO GET ALL POSSIBLE PAIR COMBINATIONS OF DICT PAIRS"
   ]
  },
  {
   "cell_type": "code",
   "execution_count": 65,
   "metadata": {},
   "outputs": [
    {
     "name": "stdout",
     "output_type": "stream",
     "text": [
      "Original{'a': 10, 'b': 20, 'c': 30, 'd': 40}\n",
      "pairs[('a', 'b'), ('a', 'c'), ('a', 'd'), ('b', 'c'), ('b', 'd'), ('c', 'd')]\n"
     ]
    }
   ],
   "source": [
    "dictionary = {'a':10,'b':20,'c':30,'d':40}\n",
    "print('Original'+str(dictionary))\n",
    "test = list(dictionary)\n",
    "out = [(x,y) for idx,x in enumerate(test) for y in test[idx+1:]]\n",
    "print('pairs'+str(out))"
   ]
  },
  {
   "cell_type": "code",
   "execution_count": 71,
   "metadata": {},
   "outputs": [
    {
     "name": "stdout",
     "output_type": "stream",
     "text": [
      "b\n",
      "c\n",
      "d\n",
      "c\n",
      "d\n",
      "d\n"
     ]
    }
   ],
   "source": [
    "for idx,x in enumerate(test):\n",
    "    #print(idx)\n",
    "    #print(x)\n",
    "    for y in test[idx+1:]:\n",
    "        print(y)"
   ]
  },
  {
   "cell_type": "code",
   "execution_count": null,
   "metadata": {},
   "outputs": [],
   "source": []
  }
 ],
 "metadata": {
  "kernelspec": {
   "display_name": "Python 3",
   "language": "python",
   "name": "python3"
  },
  "language_info": {
   "codemirror_mode": {
    "name": "ipython",
    "version": 3
   },
   "file_extension": ".py",
   "mimetype": "text/x-python",
   "name": "python",
   "nbconvert_exporter": "python",
   "pygments_lexer": "ipython3",
   "version": "3.7.3"
  }
 },
 "nbformat": 4,
 "nbformat_minor": 2
}
