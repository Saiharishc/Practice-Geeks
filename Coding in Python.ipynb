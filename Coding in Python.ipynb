{
 "cells": [
  {
   "cell_type": "raw",
   "metadata": {},
   "source": [
    "Find the Minimum and Maximum values that can be calculated by summing exactly four of the five integers.\n",
    "Example: arr = [1,3,5,7,9]\n",
    "    mim sum is 1+3+5+7 = 16\n",
    "    max sum is 3+5+7+9 = 24"
   ]
  },
  {
   "cell_type": "code",
   "execution_count": 15,
   "metadata": {},
   "outputs": [
    {
     "name": "stdout",
     "output_type": "stream",
     "text": [
      "minsum is 16, maxsum is 24\n"
     ]
    }
   ],
   "source": [
    "arr = [1,3,5,7,9]\n",
    "def mimmaxsum(arr):\n",
    "    s = 0; maxnum = 0; minnum = 999999\n",
    "    n = len(arr)\n",
    "    for i in range(n):\n",
    "        s +=arr[i]\n",
    "        minnum = min(minnum,arr[i]) \n",
    "        maxnum = max(maxnum,arr[i])\n",
    "    return s-minnum,s-maxnum\n",
    "maxsum,minsum = mimmaxsum(arr)\n",
    "print(\"minsum is {}, maxsum is {}\".format(minsum,maxsum))"
   ]
  },
  {
   "cell_type": "code",
   "execution_count": null,
   "metadata": {},
   "outputs": [],
   "source": []
  },
  {
   "cell_type": "markdown",
   "metadata": {},
   "source": [
    "Staircase of size n=4\n",
    " \n",
    "   # \n",
    "  ##\n",
    " ###\n",
    "####"
   ]
  },
  {
   "cell_type": "code",
   "execution_count": 20,
   "metadata": {},
   "outputs": [
    {
     "name": "stdout",
     "output_type": "stream",
     "text": [
      "   #\n",
      "  ##\n",
      " ###\n",
      "####\n"
     ]
    }
   ],
   "source": [
    "def func(n):\n",
    "    for i in range(1,n+1):\n",
    "        s = '#'*i\n",
    "        print(s.rjust(n))\n",
    "func(4)"
   ]
  },
  {
   "cell_type": "code",
   "execution_count": 24,
   "metadata": {},
   "outputs": [
    {
     "name": "stdout",
     "output_type": "stream",
     "text": [
      "3\n"
     ]
    }
   ],
   "source": [
    "arr=[8,7,2,5,3,1]\n",
    "k = 5\n",
    "if k-2 in arr:\n",
    "    print(arr.index(k))"
   ]
  },
  {
   "cell_type": "code",
   "execution_count": null,
   "metadata": {},
   "outputs": [],
   "source": []
  },
  {
   "cell_type": "markdown",
   "metadata": {},
   "source": [
    "Find pair with given sum in an array\n",
    "Input : arr=[8,7,2,5,3,1]\n",
    "        sum =10\n",
    "Output : Pair found at index 0 and 2 (8+2)"
   ]
  },
  {
   "cell_type": "code",
   "execution_count": 31,
   "metadata": {},
   "outputs": [
    {
     "name": "stdout",
     "output_type": "stream",
     "text": [
      "Pair found at index 2 and 0 values 8 2\n",
      "Pair found at index 4 and 1 values 7 3\n",
      "Pair found at index 0 and 2 values 2 8\n",
      "Pair found at index 3 and 3 values 5 5\n",
      "Pair found at index 1 and 4 values 3 7\n"
     ]
    }
   ],
   "source": [
    "arr=[8,7,2,5,3,1]\n",
    "sum =10\n",
    "def pair(arr,sum):\n",
    "    for i,j in enumerate(arr):\n",
    "        k = sum-j\n",
    "        if k in arr:\n",
    "            print(\"Pair found at index\", arr.index(k), \"and\", i,\"values\", j,k)\n",
    "            \n",
    "pair(arr,sum)            "
   ]
  },
  {
   "cell_type": "code",
   "execution_count": 36,
   "metadata": {},
   "outputs": [
    {
     "name": "stdout",
     "output_type": "stream",
     "text": [
      "Pair found at index 0 and 2 values 2 8\n",
      "Pair found at index 1 and 4 values 3 7\n"
     ]
    }
   ],
   "source": [
    "arr=[8,7,2,5,3,1]\n",
    "sum =10\n",
    "def pair(arr,sum):\n",
    "    dict = {}\n",
    "    #If difference is seen before, print the pair\n",
    "    for i,j in enumerate(arr):\n",
    "        if sum-j in dict:\n",
    "            print(\"Pair found at index\", dict.get(sum-j), \"and\", i,\"values\", j,sum-j)\n",
    "        #store index of current element in the dictionary\n",
    "        dict[j] = i\n",
    "    \n",
    "pair(arr,sum)            "
   ]
  },
  {
   "cell_type": "code",
   "execution_count": null,
   "metadata": {},
   "outputs": [],
   "source": []
  },
  {
   "cell_type": "code",
   "execution_count": null,
   "metadata": {},
   "outputs": [],
   "source": [
    "Check if subarray with 0 sum is exists or not\n",
    "input : {3,4,-7,3,1,3,1,-4,-2,-2}"
   ]
  },
  {
   "cell_type": "code",
   "execution_count": 40,
   "metadata": {},
   "outputs": [
    {
     "data": {
      "text/plain": [
       "True"
      ]
     },
     "execution_count": 40,
     "metadata": {},
     "output_type": "execute_result"
    }
   ],
   "source": [
    "A = {3,4,-7,3,1,3,1,-4,-2,-2}\n",
    "def sublist(A):\n",
    "    s = set()\n",
    "    s.add(0)\n",
    "    sum = 0\n",
    "    for i in A:\n",
    "        sum+=i\n",
    "        if sum in s:\n",
    "            return True\n",
    "        s.add(sum)\n",
    "\n",
    "sublist(A)"
   ]
  },
  {
   "cell_type": "code",
   "execution_count": null,
   "metadata": {},
   "outputs": [],
   "source": []
  }
 ],
 "metadata": {
  "kernelspec": {
   "display_name": "Python 3",
   "language": "python",
   "name": "python3"
  },
  "language_info": {
   "codemirror_mode": {
    "name": "ipython",
    "version": 3
   },
   "file_extension": ".py",
   "mimetype": "text/x-python",
   "name": "python",
   "nbconvert_exporter": "python",
   "pygments_lexer": "ipython3",
   "version": "3.7.3"
  }
 },
 "nbformat": 4,
 "nbformat_minor": 2
}
