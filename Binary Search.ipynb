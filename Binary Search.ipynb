{
 "cells": [
  {
   "cell_type": "code",
   "execution_count": 1,
   "metadata": {},
   "outputs": [],
   "source": [
    "#Python Program for Binary Search"
   ]
  },
  {
   "cell_type": "code",
   "execution_count": 7,
   "metadata": {},
   "outputs": [
    {
     "name": "stdout",
     "output_type": "stream",
     "text": [
      "Element is present at index  3\n"
     ]
    }
   ],
   "source": [
    "def binarySearch(A,l,r,x):\n",
    "    if r>=1:\n",
    "        mid=(l+(r-1))//2\n",
    "        if A[mid] == x:\n",
    "            return mid\n",
    "        elif A[mid]>x:\n",
    "            return binarySearch(A,l,mid-1,x)\n",
    "        else:\n",
    "            return binarySearch(A,mid+1,r,x)\n",
    "    else:\n",
    "        return -1\n",
    "A=[2,3,4,10,40]\n",
    "x=10\n",
    "res = binarySearch(A,0,len(A)-1,x)\n",
    "if res !=-1:\n",
    "    print(\"Element is present at index \", res)\n",
    "else:\n",
    "    print(\"Element is not present in array\")"
   ]
  },
  {
   "cell_type": "code",
   "execution_count": null,
   "metadata": {},
   "outputs": [],
   "source": []
  },
  {
   "cell_type": "code",
   "execution_count": 8,
   "metadata": {},
   "outputs": [
    {
     "name": "stdout",
     "output_type": "stream",
     "text": [
      "Element is present at index  3\n"
     ]
    }
   ],
   "source": [
    "def binarySearch(arr,l,r,x):\n",
    "    while l<=r:\n",
    "        mid=l+(r-1)//2\n",
    "        if arr[mid] ==x:\n",
    "            return mid\n",
    "        elif arr[mid]<x:\n",
    "            l=mid+1\n",
    "        else:\n",
    "            r=mid-1\n",
    "    return -1\n",
    "arr = [2,3,4,10,40]\n",
    "x=10\n",
    "result = binarySearch(arr,0,len(arr)-1,x)\n",
    "if result !=-1:\n",
    "    print(\"Element is present at index \", result)\n",
    "else:\n",
    "    print(\"Element is not present in array\")"
   ]
  },
  {
   "cell_type": "code",
   "execution_count": null,
   "metadata": {},
   "outputs": [],
   "source": []
  }
 ],
 "metadata": {
  "kernelspec": {
   "display_name": "Python 3",
   "language": "python",
   "name": "python3"
  },
  "language_info": {
   "codemirror_mode": {
    "name": "ipython",
    "version": 3
   },
   "file_extension": ".py",
   "mimetype": "text/x-python",
   "name": "python",
   "nbconvert_exporter": "python",
   "pygments_lexer": "ipython3",
   "version": "3.7.3"
  }
 },
 "nbformat": 4,
 "nbformat_minor": 2
}
