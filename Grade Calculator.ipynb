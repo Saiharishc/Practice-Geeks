{
 "cells": [
  {
   "cell_type": "code",
   "execution_count": null,
   "metadata": {},
   "outputs": [],
   "source": [
    "'''10 % of marks scored from submission of Assignments\n",
    "70 % of marks scored from Test\n",
    "20 % of marks scored in Lab-Works'''"
   ]
  },
  {
   "cell_type": "code",
   "execution_count": null,
   "metadata": {},
   "outputs": [],
   "source": [
    "'''1. score >= 90 : \"A\"\n",
    "2. score >= 80 : \"B\"\n",
    "3. score >= 70 : \"C\"\n",
    "4. score >= 60 : \"D\"'''"
   ]
  },
  {
   "cell_type": "code",
   "execution_count": null,
   "metadata": {},
   "outputs": [],
   "source": []
  },
  {
   "cell_type": "code",
   "execution_count": 11,
   "metadata": {},
   "outputs": [],
   "source": [
    "def get_avg(marks):\n",
    "    return float(sum(marks)/len(marks))"
   ]
  },
  {
   "cell_type": "code",
   "execution_count": 12,
   "metadata": {},
   "outputs": [],
   "source": [
    "def cal_avg(std):\n",
    "    assn = get_avg(std['assn'])\n",
    "    test = get_avg(std['test'])\n",
    "    lab = get_avg(std['lab'])\n",
    "    return (0.1*assn+0.7*test+0.2*lab)"
   ]
  },
  {
   "cell_type": "code",
   "execution_count": 20,
   "metadata": {},
   "outputs": [],
   "source": [
    "def grade(score):\n",
    "    if score >=90 : return 'A'\n",
    "    elif score >=80 : return 'B'\n",
    "    elif score >=70  : return 'C'\n",
    "    else : return 'D'"
   ]
  },
  {
   "cell_type": "code",
   "execution_count": 29,
   "metadata": {},
   "outputs": [],
   "source": [
    "def tot_avg(std):\n",
    "    tavg=[]\n",
    "    for i in std:\n",
    "        s = cal_avg(i)\n",
    "        tavg.append(s)\n",
    "    return get_avg(tavg)"
   ]
  },
  {
   "cell_type": "code",
   "execution_count": null,
   "metadata": {},
   "outputs": [],
   "source": []
  },
  {
   "cell_type": "code",
   "execution_count": 24,
   "metadata": {},
   "outputs": [],
   "source": [
    "A = { 'name' :'A1',\n",
    "     'assn' : [80,50,40,20],\n",
    "     'test' : [75,75],\n",
    "     'lab' : [78.20,77.20]\n",
    "      }"
   ]
  },
  {
   "cell_type": "code",
   "execution_count": 16,
   "metadata": {},
   "outputs": [],
   "source": [
    "B = { 'name' :'B1',\n",
    "     'assn' : [82,56,44,30],\n",
    "     'test' : [80,80],\n",
    "     'lab' : [68.20,78.20]\n",
    "      }"
   ]
  },
  {
   "cell_type": "code",
   "execution_count": 17,
   "metadata": {},
   "outputs": [],
   "source": [
    "C = { 'name' :'C1',\n",
    "     'assn' : [29,86,46,50],\n",
    "     'test' : [65,56],\n",
    "     'lab' : [50,40.6]\n",
    "      }"
   ]
  },
  {
   "cell_type": "code",
   "execution_count": 18,
   "metadata": {},
   "outputs": [
    {
     "data": {
      "text/plain": [
       "[{'name': 'A1',\n",
       "  'assn': [80, 50, 40, 20],\n",
       "  'test': [75, 75],\n",
       "  'lab': [78.2, 77.2]},\n",
       " {'name': 'B1',\n",
       "  'assn': [82, 56, 44, 30],\n",
       "  'test': [80, 80],\n",
       "  'lab': [68.2, 78.2]},\n",
       " {'name': 'C1', 'assn': [29, 86, 46, 50], 'test': [65, 56], 'lab': [50, 40.6]}]"
      ]
     },
     "execution_count": 18,
     "metadata": {},
     "output_type": "execute_result"
    }
   ],
   "source": [
    "students = [A,B,C]\n",
    "students"
   ]
  },
  {
   "cell_type": "code",
   "execution_count": 31,
   "metadata": {},
   "outputs": [
    {
     "name": "stdout",
     "output_type": "stream",
     "text": [
      "A1  : 72.79\n",
      "Grade :  C\n",
      "\n",
      "B1  : 75.94\n",
      "Grade :  C\n",
      "\n",
      "C1  : 56.684999999999995\n",
      "Grade :  D\n",
      "\n"
     ]
    }
   ],
   "source": [
    "for i in students:\n",
    "    print(i['name'],' :', cal_avg(i))  \n",
    "    print(\"Grade : \" , grade(cal_avg(i)))\n",
    "    print()"
   ]
  },
  {
   "cell_type": "code",
   "execution_count": 33,
   "metadata": {},
   "outputs": [
    {
     "name": "stdout",
     "output_type": "stream",
     "text": [
      "Total Avg : 68.47166666666668\n",
      "\n",
      "Total avg grade : D\n"
     ]
    }
   ],
   "source": [
    "print('Total Avg :',tot_avg(students))\n",
    "print()\n",
    "print('Total avg grade :',grade(tot_avg(students)))"
   ]
  },
  {
   "cell_type": "code",
   "execution_count": null,
   "metadata": {},
   "outputs": [],
   "source": []
  }
 ],
 "metadata": {
  "kernelspec": {
   "display_name": "Python 3",
   "language": "python",
   "name": "python3"
  },
  "language_info": {
   "codemirror_mode": {
    "name": "ipython",
    "version": 3
   },
   "file_extension": ".py",
   "mimetype": "text/x-python",
   "name": "python",
   "nbconvert_exporter": "python",
   "pygments_lexer": "ipython3",
   "version": "3.7.3"
  }
 },
 "nbformat": 4,
 "nbformat_minor": 2
}
