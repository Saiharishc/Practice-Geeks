{
 "cells": [
  {
   "cell_type": "code",
   "execution_count": null,
   "metadata": {},
   "outputs": [],
   "source": [
    "#PYTHON PROGRAM TO FIND SUM OF ARRAY"
   ]
  },
  {
   "cell_type": "code",
   "execution_count": null,
   "metadata": {},
   "outputs": [],
   "source": [
    "'''Input : arr[] = {1, 2, 3}\n",
    "Output : 6\n",
    "1 + 2 + 3 = 6\n",
    "\n",
    "Input : arr[] = {15, 12, 13, 10}\n",
    "Output : 50'''"
   ]
  },
  {
   "cell_type": "code",
   "execution_count": 3,
   "metadata": {},
   "outputs": [
    {
     "name": "stdout",
     "output_type": "stream",
     "text": [
      "Sum of an array :  6\n"
     ]
    }
   ],
   "source": [
    "def sum1(arr):\n",
    "    return(sum(arr))\n",
    "\n",
    "arr = [1,2,3]\n",
    "n= len(arr)\n",
    "print('Sum of an array : ',sum1(arr))"
   ]
  },
  {
   "cell_type": "code",
   "execution_count": null,
   "metadata": {},
   "outputs": [],
   "source": [
    "or"
   ]
  },
  {
   "cell_type": "code",
   "execution_count": 14,
   "metadata": {},
   "outputs": [
    {
     "name": "stdout",
     "output_type": "stream",
     "text": [
      "9\n"
     ]
    }
   ],
   "source": [
    "arr1=[2,3,4]\n",
    "sum2=0\n",
    "for i in range(len(arr)):\n",
    "        sum2+=arr1[i]\n",
    "print(sum2)"
   ]
  },
  {
   "cell_type": "code",
   "execution_count": null,
   "metadata": {},
   "outputs": [],
   "source": []
  },
  {
   "cell_type": "code",
   "execution_count": 15,
   "metadata": {},
   "outputs": [],
   "source": [
    "#Python program to find largest element in an array"
   ]
  },
  {
   "cell_type": "code",
   "execution_count": null,
   "metadata": {},
   "outputs": [],
   "source": [
    "'''Input : arr[] = {10, 20, 4}\n",
    "Output : 20\n",
    "\n",
    "Input : arr[] = {20, 10, 20, 4, 100}\n",
    "Output : 100'''"
   ]
  },
  {
   "cell_type": "code",
   "execution_count": 16,
   "metadata": {},
   "outputs": [
    {
     "name": "stdout",
     "output_type": "stream",
     "text": [
      "Largest element:  20\n"
     ]
    }
   ],
   "source": [
    "def lar(arr):\n",
    "    b=0\n",
    "    for i in range(len(arr)):\n",
    "        a=arr[i]\n",
    "        if a>b:\n",
    "            b=a\n",
    "    return b        \n",
    "arr = [10,20,4]\n",
    "print('Largest element: ',lar(arr))"
   ]
  },
  {
   "cell_type": "code",
   "execution_count": null,
   "metadata": {},
   "outputs": [],
   "source": []
  },
  {
   "cell_type": "code",
   "execution_count": 17,
   "metadata": {},
   "outputs": [],
   "source": [
    "#Python program for array rotation"
   ]
  },
  {
   "cell_type": "code",
   "execution_count": 19,
   "metadata": {},
   "outputs": [
    {
     "name": "stdout",
     "output_type": "stream",
     "text": [
      "[3, 4, 5, 6, 7, 1, 2]\n"
     ]
    }
   ],
   "source": [
    "def leftRotate(arr,d,n):\n",
    "    for i in range(d):\n",
    "        temp=arr[0]\n",
    "        for i in range(n-1):\n",
    "            arr[i]=arr[i+1]\n",
    "        arr[n-1]=temp\n",
    "\n",
    "arr =[1,2,3,4,5,6,7]\n",
    "leftRotate(arr,2,7)\n",
    "print(arr)"
   ]
  },
  {
   "cell_type": "code",
   "execution_count": 21,
   "metadata": {},
   "outputs": [
    {
     "name": "stdout",
     "output_type": "stream",
     "text": [
      "3 4 5 6 7 1 2 "
     ]
    }
   ],
   "source": [
    "def leftRotate(arr,d,n):\n",
    "    for i in range(d):\n",
    "        temp=arr[0]\n",
    "        for i in range(n-1):\n",
    "            arr[i]=arr[i+1]\n",
    "        arr[n-1]=temp\n",
    "\n",
    "def printArray(arr,size):\n",
    "    for i in range(size):\n",
    "        print(\"%d\"% arr[i],end=\" \")\n",
    "arr =[1,2,3,4,5,6,7]\n",
    "leftRotate(arr,2,7)\n",
    "printArray(arr,7)"
   ]
  },
  {
   "cell_type": "code",
   "execution_count": null,
   "metadata": {},
   "outputs": [],
   "source": [
    "'''Input :  arr[] = [1, 2, 3, 4, 5, 6, 7]\n",
    "         d = 2\n",
    "Output : arr[] = [3, 4, 5, 6, 7, 1, 2] '''"
   ]
  },
  {
   "cell_type": "code",
   "execution_count": null,
   "metadata": {},
   "outputs": [],
   "source": []
  },
  {
   "cell_type": "code",
   "execution_count": 22,
   "metadata": {},
   "outputs": [],
   "source": [
    "#Reversal algorithm for array rotation"
   ]
  },
  {
   "cell_type": "code",
   "execution_count": 26,
   "metadata": {},
   "outputs": [
    {
     "name": "stdout",
     "output_type": "stream",
     "text": [
      "[3, 4, 5, 6, 7, 1, 2]\n"
     ]
    }
   ],
   "source": [
    "def revArray(arr,start,end):\n",
    "    while(start<end):\n",
    "        temp=arr[start]\n",
    "        arr[start]=arr[end]\n",
    "        arr[end]=temp\n",
    "        start+=1\n",
    "        end=end-1\n",
    "        \n",
    "def leftRotate(arr,d):\n",
    "    n=len(arr)\n",
    "    revArray(arr,0,d-1)\n",
    "    revArray(arr,d,n-1)\n",
    "    revArray(arr,0,n-1)\n",
    "    \n",
    "arr = [1,2,3,4,5,6,7]\n",
    "leftRotate(arr,2)\n",
    "print(arr)"
   ]
  },
  {
   "cell_type": "code",
   "execution_count": null,
   "metadata": {},
   "outputs": [],
   "source": []
  },
  {
   "cell_type": "code",
   "execution_count": 27,
   "metadata": {},
   "outputs": [],
   "source": []
  },
  {
   "cell_type": "code",
   "execution_count": null,
   "metadata": {},
   "outputs": [],
   "source": []
  }
 ],
 "metadata": {
  "kernelspec": {
   "display_name": "Python 3",
   "language": "python",
   "name": "python3"
  },
  "language_info": {
   "codemirror_mode": {
    "name": "ipython",
    "version": 3
   },
   "file_extension": ".py",
   "mimetype": "text/x-python",
   "name": "python",
   "nbconvert_exporter": "python",
   "pygments_lexer": "ipython3",
   "version": "3.7.3"
  }
 },
 "nbformat": 4,
 "nbformat_minor": 2
}
