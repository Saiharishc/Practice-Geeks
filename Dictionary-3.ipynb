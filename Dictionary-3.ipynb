{
 "cells": [
  {
   "cell_type": "code",
   "execution_count": 1,
   "metadata": {},
   "outputs": [],
   "source": [
    "#Check order of character in string using OrderedDict( )"
   ]
  },
  {
   "cell_type": "code",
   "execution_count": null,
   "metadata": {},
   "outputs": [],
   "source": [
    "'''Input: \n",
    "string = \"engineers rock\"\n",
    "pattern = \"er\";\n",
    "Output: true'''"
   ]
  },
  {
   "cell_type": "code",
   "execution_count": null,
   "metadata": {},
   "outputs": [],
   "source": [
    "'''Input: \n",
    "string = \"engineers rock\"\n",
    "pattern = \"egr\";\n",
    "Output: false'''"
   ]
  },
  {
   "cell_type": "code",
   "execution_count": 23,
   "metadata": {},
   "outputs": [
    {
     "name": "stdout",
     "output_type": "stream",
     "text": [
      "e\n",
      "r\n",
      "False\n"
     ]
    }
   ],
   "source": [
    "from collections import OrderedDict\n",
    "def check(s,p):\n",
    "    dic = OrderedDict.fromkeys(s)\n",
    "    i=0\n",
    "    for key,value in dic.items():\n",
    "        if (key == p[i]):\n",
    "            print(p[i])\n",
    "            i=i+1\n",
    "        if (i== (len(p))):\n",
    "            return True\n",
    "    return False\n",
    "\n",
    "string = \"engineers rock\"\n",
    "pattern = \"erg\"\n",
    "print(check(string,pattern))"
   ]
  },
  {
   "cell_type": "code",
   "execution_count": 4,
   "metadata": {},
   "outputs": [
    {
     "name": "stdout",
     "output_type": "stream",
     "text": [
      "e\n",
      "g\n",
      "r\n"
     ]
    }
   ],
   "source": [
    "p='egr'\n",
    "for i in p:\n",
    "    print(i)"
   ]
  },
  {
   "cell_type": "code",
   "execution_count": 5,
   "metadata": {},
   "outputs": [
    {
     "name": "stdout",
     "output_type": "stream",
     "text": [
      "true\n"
     ]
    }
   ],
   "source": [
    "from collections import OrderedDict\n",
    "def check1(s,p):\n",
    "    dic=OrderedDict.fromkeys(s)\n",
    "    i=0\n",
    "    for k,v in dic.items():\n",
    "        if k==p[i]:\n",
    "            i=i+1\n",
    "        if i==len(p):\n",
    "            return 'true'\n",
    "    return 'false'\n",
    "\n",
    "string = 'engineers rock'\n",
    "pattern = 'egr'\n",
    "print(check1(string,pattern))"
   ]
  },
  {
   "cell_type": "code",
   "execution_count": null,
   "metadata": {},
   "outputs": [],
   "source": []
  },
  {
   "cell_type": "code",
   "execution_count": null,
   "metadata": {},
   "outputs": [],
   "source": [
    "#Find common elements in three sorted arrays by dictionary intersection"
   ]
  },
  {
   "cell_type": "code",
   "execution_count": null,
   "metadata": {},
   "outputs": [],
   "source": [
    "'''Input:  ar1 = [1, 5, 10, 20, 40, 80]\n",
    "        ar2 = [6, 7, 20, 80, 100]\n",
    "        ar3 = [3, 4, 15, 20, 30, 70, 80, 120]\n",
    "Output: [80, 20]'''"
   ]
  },
  {
   "cell_type": "code",
   "execution_count": 21,
   "metadata": {},
   "outputs": [
    {
     "name": "stdout",
     "output_type": "stream",
     "text": [
      "[80, 20]\n"
     ]
    }
   ],
   "source": [
    "from collections import Counter\n",
    "def common(arr1,arr2,arr3):\n",
    "    a1=Counter(arr1)\n",
    "    a2=Counter(arr2)\n",
    "    a3=Counter(arr3)\n",
    "    dic = dict(a1.items() & a2.items() & a3.items())\n",
    "    c=[]\n",
    "    for k,v in dic.items():\n",
    "        c.append(k) \n",
    "    return c\n",
    "\n",
    "\n",
    "arr1 = [1, 5, 10, 20, 40, 80]\n",
    "arr2 = [6, 7, 20, 80, 100]\n",
    "arr3 = [3, 4, 15, 20, 30, 70, 80, 120]\n",
    "print(common(arr1,arr2,arr3))"
   ]
  },
  {
   "cell_type": "code",
   "execution_count": null,
   "metadata": {},
   "outputs": [],
   "source": []
  },
  {
   "cell_type": "code",
   "execution_count": null,
   "metadata": {},
   "outputs": [],
   "source": [
    "#Dictionary and counter in Python to find winner of election"
   ]
  },
  {
   "cell_type": "code",
   "execution_count": null,
   "metadata": {},
   "outputs": [],
   "source": [
    "'''Input :  votes[] = {\"john\", \"johnny\", \"jackie\", \n",
    "                    \"johnny\", \"john\", \"jackie\", \n",
    "                    \"jamie\", \"jamie\", \"john\",\n",
    "                    \"johnny\", \"jamie\", \"johnny\", \n",
    "                    \"john\"};\n",
    "Output : John\n",
    "We have four Candidates with name as 'John', \n",
    "'Johnny', 'jamie', 'jackie'. The candidates\n",
    "John and Johny get maximum votes. Since John\n",
    "is alphabetically smaller, we print it.'''"
   ]
  },
  {
   "cell_type": "code",
   "execution_count": 49,
   "metadata": {},
   "outputs": [
    {
     "name": "stdout",
     "output_type": "stream",
     "text": [
      "('john', 4)\n",
      "('johnny', 4)\n",
      "('jackie', 2)\n",
      "('jamie', 3)\n",
      "4\n",
      "john\n"
     ]
    }
   ],
   "source": [
    "from collections import Counter\n",
    "\n",
    "def winner(Names):\n",
    "    votes= Counter(Names)\n",
    "    dict={}\n",
    "    for value in votes.values():\n",
    "        dict[value]=[]\n",
    "    for k,v in votes.items():\n",
    "        print((k,v))\n",
    "        dict[v].append(k)\n",
    "    print(sorted(dict.keys(),reverse=True)[0])\n",
    "    max1=sorted(dict.keys(),reverse=True)[0]\n",
    "    \n",
    "    if len(dict[max1])>1:\n",
    "        print(sorted(dict[max1])[0])\n",
    "    else:\n",
    "        print(dict[max1][0])\n",
    "\n",
    "\n",
    "Names = [\"john\", \"johnny\", \"jackie\", \n",
    "                    \"johnny\", \"john\", \"jackie\", \n",
    "                    \"jamie\", \"jamie\", \"john\",\n",
    "                    \"johnny\", \"jamie\", \"johnny\", \n",
    "                    \"john\"]\n",
    "winner(Names)"
   ]
  },
  {
   "cell_type": "code",
   "execution_count": null,
   "metadata": {},
   "outputs": [],
   "source": []
  },
  {
   "cell_type": "code",
   "execution_count": 63,
   "metadata": {},
   "outputs": [
    {
     "name": "stdout",
     "output_type": "stream",
     "text": [
      "('john', 4)\n",
      "('johnny', 4)\n",
      "('jackie', 2)\n",
      "('jamie', 3)\n",
      "['johnny', 'john', 'jamie', 'jackie']\n",
      "4\n"
     ]
    }
   ],
   "source": [
    "from collections import Counter\n",
    "\n",
    "def winner(Names):\n",
    "    votes= Counter(Names)\n",
    "    for k,v in votes.items():\n",
    "        print((k,v))\n",
    "\n",
    "    print(sorted(votes.keys(),reverse=True))\n",
    "    print(sorted(votes.values(),reverse=True)[0])\n",
    "\n",
    "\n",
    "Names = [\"john\", \"johnny\", \"jackie\", \n",
    "                    \"johnny\", \"john\", \"jackie\", \n",
    "                    \"jamie\", \"jamie\", \"john\",\n",
    "                    \"johnny\", \"jamie\", \"johnny\", \n",
    "                    \"john\"]\n",
    "winner(Names)"
   ]
  },
  {
   "cell_type": "code",
   "execution_count": null,
   "metadata": {},
   "outputs": [],
   "source": []
  },
  {
   "cell_type": "code",
   "execution_count": null,
   "metadata": {},
   "outputs": [],
   "source": [
    "#Print anagrams together in Python using List and Dictionary"
   ]
  },
  {
   "cell_type": "code",
   "execution_count": null,
   "metadata": {},
   "outputs": [],
   "source": [
    "'''Input : arr = ['cat', 'dog', 'tac', 'god', 'act']\n",
    "Output : 'cat tac act dog god''''"
   ]
  },
  {
   "cell_type": "code",
   "execution_count": 87,
   "metadata": {},
   "outputs": [
    {
     "name": "stdout",
     "output_type": "stream",
     "text": [
      "a :  actcatdoggodtac\n",
      "a :  actcatdoggodtac\n",
      "a :  actcatdoggodtac\n",
      "a :  actcatdoggodtac\n",
      "a :  actcatdoggodtac\n",
      "{'actcatdoggodtac': ['cat', 'dog', 'tac', 'god', 'act']}\n",
      " cat dog tac god act \n"
     ]
    }
   ],
   "source": [
    "def anagrams(arr):\n",
    "    dict={}\n",
    "    for i in arr:\n",
    "        a= ''.join(sorted(arr))\n",
    "        print('a : ',a)\n",
    "        if a in dict.keys():\n",
    "            dict[a].append(i)\n",
    "        else:\n",
    "            dict[a]=[]\n",
    "            dict[a].append(i)\n",
    "    print(dict)\n",
    "    out=\" \"\n",
    "    for k,v in dict.items():\n",
    "        out=out+ ' '.join(v)+' '\n",
    "    return out\n",
    "\n",
    "arr=['cat', 'dog', 'tac', 'god', 'act']\n",
    "print(anagrams(arr))"
   ]
  },
  {
   "cell_type": "code",
   "execution_count": 83,
   "metadata": {},
   "outputs": [
    {
     "name": "stdout",
     "output_type": "stream",
     "text": [
      "cat tac act dog god \n"
     ]
    }
   ],
   "source": [
    "def allAnagram(input): \n",
    "\n",
    "    dict = {} \n",
    "    for strVal in input: \n",
    "        key = ''.join(sorted(strVal)) \n",
    "        if key in dict.keys(): \n",
    "            dict[key].append(strVal) \n",
    "        else: \n",
    "            dict[key] = [] \n",
    "            dict[key].append(strVal) \n",
    "    output = \"\" \n",
    "    for key,value in dict.items(): \n",
    "          output = output + ' '.join(value) + ' '\n",
    "  \n",
    "    return output \n",
    "input=['cat', 'dog', 'tac', 'god', 'act'] \n",
    "print(allAnagram(input)) "
   ]
  },
  {
   "cell_type": "code",
   "execution_count": 93,
   "metadata": {},
   "outputs": [
    {
     "name": "stdout",
     "output_type": "stream",
     "text": [
      "{'act': ['cat', 'tac', 'act'], 'dgo': ['dog', 'god']}\n",
      "cat tac act dog god \n"
     ]
    }
   ],
   "source": [
    "def allAnagram(input):\n",
    "    dict={}\n",
    "    for i in input:\n",
    "        k= ''.join(sorted(i))\n",
    "    \n",
    "        if k in dict.keys():\n",
    "            dict[k].append(i)\n",
    "        else:\n",
    "            dict[k]=[]\n",
    "            dict[k].append(i)\n",
    "    print(dict)\n",
    "    out=''\n",
    "    for key,value in dict.items():\n",
    "        out=out+' '.join(value)+' '\n",
    "    return out\n",
    "\n",
    "input=['cat', 'dog', 'tac', 'god', 'act'] \n",
    "print(allAnagram(input)) "
   ]
  },
  {
   "cell_type": "code",
   "execution_count": null,
   "metadata": {},
   "outputs": [],
   "source": []
  }
 ],
 "metadata": {
  "kernelspec": {
   "display_name": "Python 3",
   "language": "python",
   "name": "python3"
  },
  "language_info": {
   "codemirror_mode": {
    "name": "ipython",
    "version": 3
   },
   "file_extension": ".py",
   "mimetype": "text/x-python",
   "name": "python",
   "nbconvert_exporter": "python",
   "pygments_lexer": "ipython3",
   "version": "3.7.3"
  }
 },
 "nbformat": 4,
 "nbformat_minor": 2
}
