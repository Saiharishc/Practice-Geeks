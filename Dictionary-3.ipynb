{
 "cells": [
  {
   "cell_type": "code",
   "execution_count": 1,
   "metadata": {},
   "outputs": [],
   "source": [
    "#Check order of character in string using OrderedDict( )"
   ]
  },
  {
   "cell_type": "code",
   "execution_count": null,
   "metadata": {},
   "outputs": [],
   "source": [
    "'''Input: \n",
    "string = \"engineers rock\"\n",
    "pattern = \"er\";\n",
    "Output: true'''"
   ]
  },
  {
   "cell_type": "code",
   "execution_count": null,
   "metadata": {},
   "outputs": [],
   "source": [
    "'''Input: \n",
    "string = \"engineers rock\"\n",
    "pattern = \"egr\";\n",
    "Output: false'''"
   ]
  },
  {
   "cell_type": "code",
   "execution_count": 23,
   "metadata": {},
   "outputs": [
    {
     "name": "stdout",
     "output_type": "stream",
     "text": [
      "e\n",
      "r\n",
      "False\n"
     ]
    }
   ],
   "source": [
    "from collections import OrderedDict\n",
    "def check(s,p):\n",
    "    dic = OrderedDict.fromkeys(s)\n",
    "    i=0\n",
    "    for key,value in dic.items():\n",
    "        if (key == p[i]):\n",
    "            print(p[i])\n",
    "            i=i+1\n",
    "        if (i== (len(p))):\n",
    "            return True\n",
    "    return False\n",
    "\n",
    "string = \"engineers rock\"\n",
    "pattern = \"erg\"\n",
    "print(check(string,pattern))"
   ]
  },
  {
   "cell_type": "code",
   "execution_count": 4,
   "metadata": {},
   "outputs": [
    {
     "name": "stdout",
     "output_type": "stream",
     "text": [
      "e\n",
      "g\n",
      "r\n"
     ]
    }
   ],
   "source": [
    "p='egr'\n",
    "for i in p:\n",
    "    print(i)"
   ]
  },
  {
   "cell_type": "code",
   "execution_count": null,
   "metadata": {},
   "outputs": [],
   "source": [
    "def check1(s,p):\n",
    "    \n",
    "\n",
    "string = 'engineers rock'\n",
    "pattern = 'erg'\n",
    "print(check1(string,pattern))"
   ]
  }
 ],
 "metadata": {
  "kernelspec": {
   "display_name": "Python 3",
   "language": "python",
   "name": "python3"
  },
  "language_info": {
   "codemirror_mode": {
    "name": "ipython",
    "version": 3
   },
   "file_extension": ".py",
   "mimetype": "text/x-python",
   "name": "python",
   "nbconvert_exporter": "python",
   "pygments_lexer": "ipython3",
   "version": "3.7.3"
  }
 },
 "nbformat": 4,
 "nbformat_minor": 2
}
