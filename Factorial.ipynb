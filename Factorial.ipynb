{
 "cells": [
  {
   "cell_type": "code",
   "execution_count": 1,
   "metadata": {},
   "outputs": [],
   "source": [
    "#RECURSIVE"
   ]
  },
  {
   "cell_type": "code",
   "execution_count": 55,
   "metadata": {},
   "outputs": [
    {
     "name": "stdout",
     "output_type": "stream",
     "text": [
      "Factorial of number 5 is  120\n"
     ]
    }
   ],
   "source": [
    "def fact(n):\n",
    "    return 1 if (n==1 or n==0) else n*fact(n-1)\n",
    "num=5\n",
    "print(\"Factorial of number\",num,\"is \",fact(num))"
   ]
  },
  {
   "cell_type": "code",
   "execution_count": null,
   "metadata": {},
   "outputs": [],
   "source": []
  },
  {
   "cell_type": "code",
   "execution_count": 3,
   "metadata": {},
   "outputs": [],
   "source": [
    "#Iterative"
   ]
  },
  {
   "cell_type": "code",
   "execution_count": 4,
   "metadata": {},
   "outputs": [
    {
     "name": "stdout",
     "output_type": "stream",
     "text": [
      "Factorialof number  5 is  120\n"
     ]
    }
   ],
   "source": [
    "def factorial(n):\n",
    "    if n<0:\n",
    "        return 0\n",
    "    elif n==0 or n==1:\n",
    "        return 1\n",
    "    else:\n",
    "        fact=1\n",
    "        while(n>1):\n",
    "            fact*=n\n",
    "            n-=1\n",
    "        return fact\n",
    "\n",
    "num=5\n",
    "print(\"Factorialof number \",num,\"is \",fact(num))"
   ]
  },
  {
   "cell_type": "code",
   "execution_count": null,
   "metadata": {},
   "outputs": [],
   "source": []
  },
  {
   "cell_type": "code",
   "execution_count": 43,
   "metadata": {},
   "outputs": [],
   "source": [
    "#To find sum of factorial"
   ]
  },
  {
   "cell_type": "code",
   "execution_count": 42,
   "metadata": {},
   "outputs": [
    {
     "name": "stdout",
     "output_type": "stream",
     "text": [
      "When 5 is added, then sum is 5\n",
      "When 4 is added, then sum is 9\n",
      "When 3 is added, then sum is 12\n",
      "When 2 is added, then sum is 14\n",
      "When 1 is added, then sum is 15\n",
      "Factorial of number 5 is 120\n"
     ]
    }
   ],
   "source": [
    "def fact(n,sum1):\n",
    "    sum1=sum1+n\n",
    "    print(\"When\",n,\"is added, then sum is\",sum1)\n",
    "    return 1 if (n==1 or n==0) else n*fact(n-1,sum1)\n",
    "num=5\n",
    "sum1=0\n",
    "print(\"Factorial of number\",num,\"is\",fact(num,sum1))"
   ]
  },
  {
   "cell_type": "code",
   "execution_count": null,
   "metadata": {},
   "outputs": [],
   "source": []
  },
  {
   "cell_type": "code",
   "execution_count": 44,
   "metadata": {},
   "outputs": [],
   "source": [
    "#To find first natural number whose factorial is divisible by x"
   ]
  },
  {
   "cell_type": "code",
   "execution_count": 47,
   "metadata": {},
   "outputs": [
    {
     "name": "stdout",
     "output_type": "stream",
     "text": [
      "6\n"
     ]
    }
   ],
   "source": [
    "def firstfactDivby(x):\n",
    "    i=1\n",
    "    fact=1\n",
    "    for i in range(1,x):\n",
    "        fact=fact*i\n",
    "        if (fact%x==0):\n",
    "            break\n",
    "    return i\n",
    "            \n",
    "x=16\n",
    "print(firstfactDivby(x))"
   ]
  },
  {
   "cell_type": "code",
   "execution_count": null,
   "metadata": {},
   "outputs": [],
   "source": [
    "\"\"\"Input  : x = 16\n",
    "Output : 6\n",
    "6 is the smallest number such that \n",
    "(6!) % 16 = 0\"\"\""
   ]
  },
  {
   "cell_type": "code",
   "execution_count": null,
   "metadata": {},
   "outputs": [],
   "source": []
  },
  {
   "cell_type": "code",
   "execution_count": 49,
   "metadata": {},
   "outputs": [],
   "source": [
    "#Last digit when factorial A divides factorial B"
   ]
  },
  {
   "cell_type": "code",
   "execution_count": null,
   "metadata": {},
   "outputs": [],
   "source": [
    "\"\"\"Input : A = 2, B = 4\n",
    "Output : 2\n",
    "Explanation : A! = 2 and B! = 24. \n",
    "F = 24/2 = 12 --> last digit = 2\"\"\""
   ]
  },
  {
   "cell_type": "code",
   "execution_count": 53,
   "metadata": {},
   "outputs": [
    {
     "name": "stdout",
     "output_type": "stream",
     "text": [
      "2\n"
     ]
    }
   ],
   "source": [
    "def computeLastDigit(A,B):\n",
    "    var=1\n",
    "    if (A==B):\n",
    "        return 1\n",
    "    elif ((B-A)>=5):\n",
    "        return 0\n",
    "    else:\n",
    "        for i in range(A+1,B+1):\n",
    "            var = (var*(i%10))%10\n",
    "        return var%10\n",
    "print(computeLastDigit(2,4))"
   ]
  },
  {
   "cell_type": "code",
   "execution_count": null,
   "metadata": {},
   "outputs": [],
   "source": []
  },
  {
   "cell_type": "code",
   "execution_count": 56,
   "metadata": {},
   "outputs": [],
   "source": [
    "#To find factorial numbers less than or equal to n"
   ]
  },
  {
   "cell_type": "code",
   "execution_count": 59,
   "metadata": {},
   "outputs": [
    {
     "name": "stdout",
     "output_type": "stream",
     "text": [
      "1 2 6 24 "
     ]
    }
   ],
   "source": [
    "def factNum(n):\n",
    "    fact=1\n",
    "    x=2\n",
    "    while fact<=n:\n",
    "        print(fact,end =\" \")\n",
    "        fact=fact*x\n",
    "        x+=1\n",
    "n=100\n",
    "factNum(n)"
   ]
  },
  {
   "cell_type": "code",
   "execution_count": null,
   "metadata": {},
   "outputs": [],
   "source": []
  },
  {
   "cell_type": "code",
   "execution_count": 60,
   "metadata": {},
   "outputs": [],
   "source": [
    "#To count number of factorial numbers in given range"
   ]
  },
  {
   "cell_type": "code",
   "execution_count": 69,
   "metadata": {},
   "outputs": [
    {
     "name": "stdout",
     "output_type": "stream",
     "text": [
      "Count is  5\n"
     ]
    }
   ],
   "source": [
    "def countFact(low,high):\n",
    "    fact=1\n",
    "    x=1\n",
    "    while(fact<low):\n",
    "        fact=fact*x\n",
    "        x+=1\n",
    "    res=0\n",
    "    while(fact<=high):\n",
    "        res+=1\n",
    "        fact=fact*x\n",
    "        x+=1\n",
    "    return res\n",
    "\n",
    "print(\"Count is \",countFact(2,720))"
   ]
  },
  {
   "cell_type": "code",
   "execution_count": null,
   "metadata": {},
   "outputs": [],
   "source": []
  },
  {
   "cell_type": "code",
   "execution_count": null,
   "metadata": {},
   "outputs": [],
   "source": []
  }
 ],
 "metadata": {
  "kernelspec": {
   "display_name": "Python 3",
   "language": "python",
   "name": "python3"
  },
  "language_info": {
   "codemirror_mode": {
    "name": "ipython",
    "version": 3
   },
   "file_extension": ".py",
   "mimetype": "text/x-python",
   "name": "python",
   "nbconvert_exporter": "python",
   "pygments_lexer": "ipython3",
   "version": "3.7.3"
  }
 },
 "nbformat": 4,
 "nbformat_minor": 2
}
